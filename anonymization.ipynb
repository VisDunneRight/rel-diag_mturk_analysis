{
 "cells": [
  {
   "cell_type": "markdown",
   "id": "b10ec5b6-efb7-4010-bede-f4f5fe9b1ce1",
   "metadata": {},
   "source": [
    "# Anonymization of user data\n",
    "\n",
    "Script that takes as in put the raw data from AMT and anonymizes the data:\n",
    "Replaces worker-id, removes 'assignment_id', 'hit_id', 'qualification_score'.\n",
    "This script is for internal use and will not be shared.\n"
   ]
  },
  {
   "cell_type": "markdown",
   "id": "11486b0f",
   "metadata": {
    "collapsed": false,
    "jupyter": {
     "outputs_hidden": false
    }
   },
   "source": [
    "## Load packages"
   ]
  },
  {
   "cell_type": "code",
   "execution_count": 17,
   "id": "90163bd4-f66f-4d4d-a525-a8420532f03e",
   "metadata": {},
   "outputs": [],
   "source": [
    "import pandas as pd\n",
    "import numpy as np\n",
    "from IPython.display import display\n",
    "\n",
    "# Set Jupyter and Pandas to show 3 decimal places, does not work for lists of numbers\n",
    "%precision 3\n",
    "pd.options.display.float_format = '{:,.3f}'.format\n",
    "np.set_printoptions(precision=3)"
   ]
  },
  {
   "cell_type": "markdown",
   "id": "60109a40-4d08-4bd6-90ed-a6788cfe728a",
   "metadata": {},
   "source": [
    "## File names"
   ]
  },
  {
   "cell_type": "code",
   "execution_count": 18,
   "id": "2d1d96cd-4678-4d54-a8eb-d84cf3e14247",
   "metadata": {},
   "outputs": [],
   "source": [
    "originalfilename = 'data/users-table-day2.csv'                                  # original data: will not be shared\n",
    "newfilenameanonymized = 'data/users-table-day2-anonymized.csv'                  # anonymized data: will be used later\n",
    "internalencodingfilename = 'data/users-table-day2-original-worker_ids.csv'      # for internal use: store the transformation from anonymized to original worker_ids"
   ]
  },
  {
   "cell_type": "markdown",
   "id": "ce8b86e6-d818-4a15-a5f4-9ca691e84fba",
   "metadata": {},
   "source": [
    "## Creating two new files\n",
    "\n",
    "Loading the original data, anonymizing it, saving it and also the worker-id encoding\n"
   ]
  },
  {
   "cell_type": "code",
   "execution_count": 19,
   "id": "385495ea-f2c9-4273-9cd9-4e2378417641",
   "metadata": {},
   "outputs": [
    {
     "name": "stdout",
     "output_type": "stream",
     "text": [
      "Original data: data/users-table-day2.csv\n"
     ]
    },
    {
     "data": {
      "text/plain": "          worker_id                   assignment_id  \\\n0    A10HW8JXM17XLD  32SVAV9L3HA6N0DHMWHWFNBTG0OA3M   \n1    A117C4QPUJ39TH  317HQ483I9TSXMPPG3TO5ZXIYPJNII   \n2    A11MDNSWQJLCM6  3VE8AYVF8OYNKO0V9TYKK5UVTD2F8R   \n3    A11V9IHTXCR3CX  336KAV9KYSTIY0F1Y2H7ZZO8DO02Y8   \n4    A11W7R2O4RQSSS  3UXUOQ9OKGYOOJE4O8KMS4N9L2AA7R   \n..              ...                             ...   \n166   AX3KFUB3F8VOU  3A4TN5196MJ9ANHELV2PPC2RZ8RCHX   \n167   AXAO7UJYYEFCO  3DR23U6WE7FECUSNHGP9TJ5IVEZET2   \n168   AXOE3WA9YT5MF  3FUI0JHJPZZ63FEWDH2MSFXNA1533E   \n169   AZ69TBTDH7AZS  3DL65MZB8FGXQDQCVUUJ495E7SZCEH   \n170   AZS2CB56I5XVR  3TXWC2NHN1RW2YORK54XR08L29E9ST   \n\n                             hit_id  qualification_score current_section  \\\n0    3KVQ0UJWPZM3M85UBIWFNPA9NMR5WA                  NaN         RESULTS   \n1    3KVQ0UJWPZM3M85UBIWFNPA9NMR5WA                  NaN         RESULTS   \n2    3KVQ0UJWPZM3M85UBIWFNPA9NMR5WA                  NaN       QUESTIONS   \n3    3KVQ0UJWPZM3M85UBIWFNPA9NMR5WA                  NaN         RESULTS   \n4    3KVQ0UJWPZM3M85UBIWFNPA9NMR5WA                  NaN    INSTRUCTIONS   \n..                              ...                  ...             ...   \n166  3KVQ0UJWPZM3M85UBIWFNPA9NMR5WA                  NaN         RESULTS   \n167  3KVQ0UJWPZM3M85UBIWFNPA9NMR5WA                  NaN    INSTRUCTIONS   \n168  3KVQ0UJWPZM3M85UBIWFNPA9NMR5WA                  NaN         RESULTS   \n169  3KVQ0UJWPZM3M85UBIWFNPA9NMR5WA                  NaN         RESULTS   \n170  3KVQ0UJWPZM3M85UBIWFNPA9NMR5WA                  NaN         RESULTS   \n\n     current_page  sequence_num  \\\n0               1         1.000   \n1               1         1.000   \n2              29         1.000   \n3               1         1.000   \n4               1           NaN   \n..            ...           ...   \n166             1         0.000   \n167             1           NaN   \n168             1         0.000   \n169             1         1.000   \n170             1         1.000   \n\n                                         pattern_order  \\\n0    [1, 1, 2, 1, 1, 2, 3, 4, 2, 4, 4, 2, 4, 3, 3, ...   \n1    [3, 1, 3, 3, 2, 2, 4, 4, 2, 1, 1, 2, 1, 3, 4, ...   \n2    [1, 3, 4, 2, 2, 4, 1, 1, 3, 2, 3, 1, 2, 3, 4, ...   \n3    [1, 3, 3, 2, 3, 2, 2, 4, 2, 4, 4, 3, 4, 1, 1, ...   \n4                                                  NaN   \n..                                                 ...   \n166  [4, 4, 3, 3, 4, 4, 3, 2, 1, 1, 2, 2, 1, 1, 2, ...   \n167                                                NaN   \n168  [3, 3, 3, 4, 2, 2, 4, 3, 1, 4, 4, 1, 2, 1, 1, ...   \n169  [4, 3, 1, 4, 1, 4, 2, 2, 4, 3, 3, 2, 2, 1, 3, ...   \n170  [4, 2, 4, 4, 1, 1, 1, 4, 2, 1, 2, 2, 3, 3, 3, ...   \n\n                 start_datetime                end_datetime  ...   q30_time  \\\n0    2023-07-06 15:33:53.819738   2023-07-06 15:56:48.16091  ... 13,226.000   \n1    2023-07-06 15:35:09.753802  2023-07-06 15:47:48.277039  ... 19,847.000   \n2     2023-07-07 18:11:08.79005                         NaN  ...        NaN   \n3    2023-07-07 18:11:52.077358  2023-07-07 18:37:30.385374  ... 16,843.000   \n4     2023-07-06 15:33:56.35275                         NaN  ...        NaN   \n..                          ...                         ...  ...        ...   \n166  2023-07-06 16:05:50.918429  2023-07-06 16:18:44.773885  ...  5,546.000   \n167  2023-07-06 15:33:53.496439                         NaN  ...        NaN   \n168  2023-07-07 19:01:38.084371  2023-07-07 19:19:47.324967  ...  7,472.000   \n169  2023-07-06 15:34:02.551439  2023-07-06 16:19:00.534461  ... 12,782.000   \n170  2023-07-07 18:44:54.269601  2023-07-07 19:01:59.264466  ...  3,067.000   \n\n      q31                   q31_start                     q31_end   q31_time  \\\n0   2.000  2023-07-06 15:54:44.186955  2023-07-06 15:54:57.575035 13,388.000   \n1   4.000   2023-07-06 15:47:19.25664  2023-07-06 15:47:24.331627  5,074.000   \n2     NaN                         NaN                         NaN        NaN   \n3   3.000   2023-07-07 18:36:52.45584  2023-07-07 18:36:57.673103  5,217.000   \n4     NaN                         NaN                         NaN        NaN   \n..    ...                         ...                         ...        ...   \n166 2.000  2023-07-06 16:18:14.652581  2023-07-06 16:18:25.846863 11,194.000   \n167   NaN                         NaN                         NaN        NaN   \n168 3.000  2023-07-07 19:19:10.726193  2023-07-07 19:19:32.963664 22,237.000   \n169 4.000  2023-07-06 16:18:21.318188  2023-07-06 16:18:31.224703  9,906.000   \n170 2.000  2023-07-07 19:00:31.777433  2023-07-07 19:00:36.612726  4,835.000   \n\n      q32                   q32_start                     q32_end   q32_time  \\\n0   4.000  2023-07-06 15:55:00.530759  2023-07-06 15:55:13.292598 12,761.000   \n1   1.000  2023-07-06 15:47:26.069748   2023-07-06 15:47:33.66475  7,595.000   \n2     NaN                         NaN                         NaN        NaN   \n3   1.000  2023-07-07 18:37:00.669486  2023-07-07 18:37:12.637864 11,968.000   \n4     NaN                         NaN                         NaN        NaN   \n..    ...                         ...                         ...        ...   \n166 4.000   2023-07-06 16:18:27.91728  2023-07-06 16:18:32.772318  4,855.000   \n167   NaN                         NaN                         NaN        NaN   \n168 1.000  2023-07-07 19:19:34.721309  2023-07-07 19:19:39.613308  4,891.000   \n169 2.000  2023-07-06 16:18:31.963803  2023-07-06 16:18:39.588003  7,624.000   \n170 1.000  2023-07-07 19:00:38.045936  2023-07-07 19:00:40.864742  2,818.000   \n\n                                              feedback  \n0    I found the tutorial to be very helpful in und...  \n1                                                 good  \n2                                                  NaN  \n3                                                 Good  \n4                                                  NaN  \n..                                                 ...  \n166                                               none  \n167                                                NaN  \n168                                               good  \n169                                                NaN  \n170                                           GOODNESS  \n\n[171 rows x 152 columns]",
      "text/html": "<div>\n<style scoped>\n    .dataframe tbody tr th:only-of-type {\n        vertical-align: middle;\n    }\n\n    .dataframe tbody tr th {\n        vertical-align: top;\n    }\n\n    .dataframe thead th {\n        text-align: right;\n    }\n</style>\n<table border=\"1\" class=\"dataframe\">\n  <thead>\n    <tr style=\"text-align: right;\">\n      <th></th>\n      <th>worker_id</th>\n      <th>assignment_id</th>\n      <th>hit_id</th>\n      <th>qualification_score</th>\n      <th>current_section</th>\n      <th>current_page</th>\n      <th>sequence_num</th>\n      <th>pattern_order</th>\n      <th>start_datetime</th>\n      <th>end_datetime</th>\n      <th>...</th>\n      <th>q30_time</th>\n      <th>q31</th>\n      <th>q31_start</th>\n      <th>q31_end</th>\n      <th>q31_time</th>\n      <th>q32</th>\n      <th>q32_start</th>\n      <th>q32_end</th>\n      <th>q32_time</th>\n      <th>feedback</th>\n    </tr>\n  </thead>\n  <tbody>\n    <tr>\n      <th>0</th>\n      <td>A10HW8JXM17XLD</td>\n      <td>32SVAV9L3HA6N0DHMWHWFNBTG0OA3M</td>\n      <td>3KVQ0UJWPZM3M85UBIWFNPA9NMR5WA</td>\n      <td>NaN</td>\n      <td>RESULTS</td>\n      <td>1</td>\n      <td>1.000</td>\n      <td>[1, 1, 2, 1, 1, 2, 3, 4, 2, 4, 4, 2, 4, 3, 3, ...</td>\n      <td>2023-07-06 15:33:53.819738</td>\n      <td>2023-07-06 15:56:48.16091</td>\n      <td>...</td>\n      <td>13,226.000</td>\n      <td>2.000</td>\n      <td>2023-07-06 15:54:44.186955</td>\n      <td>2023-07-06 15:54:57.575035</td>\n      <td>13,388.000</td>\n      <td>4.000</td>\n      <td>2023-07-06 15:55:00.530759</td>\n      <td>2023-07-06 15:55:13.292598</td>\n      <td>12,761.000</td>\n      <td>I found the tutorial to be very helpful in und...</td>\n    </tr>\n    <tr>\n      <th>1</th>\n      <td>A117C4QPUJ39TH</td>\n      <td>317HQ483I9TSXMPPG3TO5ZXIYPJNII</td>\n      <td>3KVQ0UJWPZM3M85UBIWFNPA9NMR5WA</td>\n      <td>NaN</td>\n      <td>RESULTS</td>\n      <td>1</td>\n      <td>1.000</td>\n      <td>[3, 1, 3, 3, 2, 2, 4, 4, 2, 1, 1, 2, 1, 3, 4, ...</td>\n      <td>2023-07-06 15:35:09.753802</td>\n      <td>2023-07-06 15:47:48.277039</td>\n      <td>...</td>\n      <td>19,847.000</td>\n      <td>4.000</td>\n      <td>2023-07-06 15:47:19.25664</td>\n      <td>2023-07-06 15:47:24.331627</td>\n      <td>5,074.000</td>\n      <td>1.000</td>\n      <td>2023-07-06 15:47:26.069748</td>\n      <td>2023-07-06 15:47:33.66475</td>\n      <td>7,595.000</td>\n      <td>good</td>\n    </tr>\n    <tr>\n      <th>2</th>\n      <td>A11MDNSWQJLCM6</td>\n      <td>3VE8AYVF8OYNKO0V9TYKK5UVTD2F8R</td>\n      <td>3KVQ0UJWPZM3M85UBIWFNPA9NMR5WA</td>\n      <td>NaN</td>\n      <td>QUESTIONS</td>\n      <td>29</td>\n      <td>1.000</td>\n      <td>[1, 3, 4, 2, 2, 4, 1, 1, 3, 2, 3, 1, 2, 3, 4, ...</td>\n      <td>2023-07-07 18:11:08.79005</td>\n      <td>NaN</td>\n      <td>...</td>\n      <td>NaN</td>\n      <td>NaN</td>\n      <td>NaN</td>\n      <td>NaN</td>\n      <td>NaN</td>\n      <td>NaN</td>\n      <td>NaN</td>\n      <td>NaN</td>\n      <td>NaN</td>\n      <td>NaN</td>\n    </tr>\n    <tr>\n      <th>3</th>\n      <td>A11V9IHTXCR3CX</td>\n      <td>336KAV9KYSTIY0F1Y2H7ZZO8DO02Y8</td>\n      <td>3KVQ0UJWPZM3M85UBIWFNPA9NMR5WA</td>\n      <td>NaN</td>\n      <td>RESULTS</td>\n      <td>1</td>\n      <td>1.000</td>\n      <td>[1, 3, 3, 2, 3, 2, 2, 4, 2, 4, 4, 3, 4, 1, 1, ...</td>\n      <td>2023-07-07 18:11:52.077358</td>\n      <td>2023-07-07 18:37:30.385374</td>\n      <td>...</td>\n      <td>16,843.000</td>\n      <td>3.000</td>\n      <td>2023-07-07 18:36:52.45584</td>\n      <td>2023-07-07 18:36:57.673103</td>\n      <td>5,217.000</td>\n      <td>1.000</td>\n      <td>2023-07-07 18:37:00.669486</td>\n      <td>2023-07-07 18:37:12.637864</td>\n      <td>11,968.000</td>\n      <td>Good</td>\n    </tr>\n    <tr>\n      <th>4</th>\n      <td>A11W7R2O4RQSSS</td>\n      <td>3UXUOQ9OKGYOOJE4O8KMS4N9L2AA7R</td>\n      <td>3KVQ0UJWPZM3M85UBIWFNPA9NMR5WA</td>\n      <td>NaN</td>\n      <td>INSTRUCTIONS</td>\n      <td>1</td>\n      <td>NaN</td>\n      <td>NaN</td>\n      <td>2023-07-06 15:33:56.35275</td>\n      <td>NaN</td>\n      <td>...</td>\n      <td>NaN</td>\n      <td>NaN</td>\n      <td>NaN</td>\n      <td>NaN</td>\n      <td>NaN</td>\n      <td>NaN</td>\n      <td>NaN</td>\n      <td>NaN</td>\n      <td>NaN</td>\n      <td>NaN</td>\n    </tr>\n    <tr>\n      <th>...</th>\n      <td>...</td>\n      <td>...</td>\n      <td>...</td>\n      <td>...</td>\n      <td>...</td>\n      <td>...</td>\n      <td>...</td>\n      <td>...</td>\n      <td>...</td>\n      <td>...</td>\n      <td>...</td>\n      <td>...</td>\n      <td>...</td>\n      <td>...</td>\n      <td>...</td>\n      <td>...</td>\n      <td>...</td>\n      <td>...</td>\n      <td>...</td>\n      <td>...</td>\n      <td>...</td>\n    </tr>\n    <tr>\n      <th>166</th>\n      <td>AX3KFUB3F8VOU</td>\n      <td>3A4TN5196MJ9ANHELV2PPC2RZ8RCHX</td>\n      <td>3KVQ0UJWPZM3M85UBIWFNPA9NMR5WA</td>\n      <td>NaN</td>\n      <td>RESULTS</td>\n      <td>1</td>\n      <td>0.000</td>\n      <td>[4, 4, 3, 3, 4, 4, 3, 2, 1, 1, 2, 2, 1, 1, 2, ...</td>\n      <td>2023-07-06 16:05:50.918429</td>\n      <td>2023-07-06 16:18:44.773885</td>\n      <td>...</td>\n      <td>5,546.000</td>\n      <td>2.000</td>\n      <td>2023-07-06 16:18:14.652581</td>\n      <td>2023-07-06 16:18:25.846863</td>\n      <td>11,194.000</td>\n      <td>4.000</td>\n      <td>2023-07-06 16:18:27.91728</td>\n      <td>2023-07-06 16:18:32.772318</td>\n      <td>4,855.000</td>\n      <td>none</td>\n    </tr>\n    <tr>\n      <th>167</th>\n      <td>AXAO7UJYYEFCO</td>\n      <td>3DR23U6WE7FECUSNHGP9TJ5IVEZET2</td>\n      <td>3KVQ0UJWPZM3M85UBIWFNPA9NMR5WA</td>\n      <td>NaN</td>\n      <td>INSTRUCTIONS</td>\n      <td>1</td>\n      <td>NaN</td>\n      <td>NaN</td>\n      <td>2023-07-06 15:33:53.496439</td>\n      <td>NaN</td>\n      <td>...</td>\n      <td>NaN</td>\n      <td>NaN</td>\n      <td>NaN</td>\n      <td>NaN</td>\n      <td>NaN</td>\n      <td>NaN</td>\n      <td>NaN</td>\n      <td>NaN</td>\n      <td>NaN</td>\n      <td>NaN</td>\n    </tr>\n    <tr>\n      <th>168</th>\n      <td>AXOE3WA9YT5MF</td>\n      <td>3FUI0JHJPZZ63FEWDH2MSFXNA1533E</td>\n      <td>3KVQ0UJWPZM3M85UBIWFNPA9NMR5WA</td>\n      <td>NaN</td>\n      <td>RESULTS</td>\n      <td>1</td>\n      <td>0.000</td>\n      <td>[3, 3, 3, 4, 2, 2, 4, 3, 1, 4, 4, 1, 2, 1, 1, ...</td>\n      <td>2023-07-07 19:01:38.084371</td>\n      <td>2023-07-07 19:19:47.324967</td>\n      <td>...</td>\n      <td>7,472.000</td>\n      <td>3.000</td>\n      <td>2023-07-07 19:19:10.726193</td>\n      <td>2023-07-07 19:19:32.963664</td>\n      <td>22,237.000</td>\n      <td>1.000</td>\n      <td>2023-07-07 19:19:34.721309</td>\n      <td>2023-07-07 19:19:39.613308</td>\n      <td>4,891.000</td>\n      <td>good</td>\n    </tr>\n    <tr>\n      <th>169</th>\n      <td>AZ69TBTDH7AZS</td>\n      <td>3DL65MZB8FGXQDQCVUUJ495E7SZCEH</td>\n      <td>3KVQ0UJWPZM3M85UBIWFNPA9NMR5WA</td>\n      <td>NaN</td>\n      <td>RESULTS</td>\n      <td>1</td>\n      <td>1.000</td>\n      <td>[4, 3, 1, 4, 1, 4, 2, 2, 4, 3, 3, 2, 2, 1, 3, ...</td>\n      <td>2023-07-06 15:34:02.551439</td>\n      <td>2023-07-06 16:19:00.534461</td>\n      <td>...</td>\n      <td>12,782.000</td>\n      <td>4.000</td>\n      <td>2023-07-06 16:18:21.318188</td>\n      <td>2023-07-06 16:18:31.224703</td>\n      <td>9,906.000</td>\n      <td>2.000</td>\n      <td>2023-07-06 16:18:31.963803</td>\n      <td>2023-07-06 16:18:39.588003</td>\n      <td>7,624.000</td>\n      <td>NaN</td>\n    </tr>\n    <tr>\n      <th>170</th>\n      <td>AZS2CB56I5XVR</td>\n      <td>3TXWC2NHN1RW2YORK54XR08L29E9ST</td>\n      <td>3KVQ0UJWPZM3M85UBIWFNPA9NMR5WA</td>\n      <td>NaN</td>\n      <td>RESULTS</td>\n      <td>1</td>\n      <td>1.000</td>\n      <td>[4, 2, 4, 4, 1, 1, 1, 4, 2, 1, 2, 2, 3, 3, 3, ...</td>\n      <td>2023-07-07 18:44:54.269601</td>\n      <td>2023-07-07 19:01:59.264466</td>\n      <td>...</td>\n      <td>3,067.000</td>\n      <td>2.000</td>\n      <td>2023-07-07 19:00:31.777433</td>\n      <td>2023-07-07 19:00:36.612726</td>\n      <td>4,835.000</td>\n      <td>1.000</td>\n      <td>2023-07-07 19:00:38.045936</td>\n      <td>2023-07-07 19:00:40.864742</td>\n      <td>2,818.000</td>\n      <td>GOODNESS</td>\n    </tr>\n  </tbody>\n</table>\n<p>171 rows × 152 columns</p>\n</div>"
     },
     "metadata": {},
     "output_type": "display_data"
    },
    {
     "name": "stdout",
     "output_type": "stream",
     "text": [
      "New data: data/users-table-day2-anonymized.csv\n"
     ]
    },
    {
     "data": {
      "text/plain": "     worker_id current_section  current_page  sequence_num  \\\n0           84         RESULTS             1         1.000   \n1           69         RESULTS             1         1.000   \n2          122       QUESTIONS            29         1.000   \n3           71         RESULTS             1         1.000   \n4          104    INSTRUCTIONS             1           NaN   \n..         ...             ...           ...           ...   \n166        109         RESULTS             1         0.000   \n167         27    INSTRUCTIONS             1           NaN   \n168         64         RESULTS             1         0.000   \n169         86         RESULTS             1         1.000   \n170        108         RESULTS             1         1.000   \n\n                                         pattern_order  \\\n0    [1, 1, 2, 1, 1, 2, 3, 4, 2, 4, 4, 2, 4, 3, 3, ...   \n1    [3, 1, 3, 3, 2, 2, 4, 4, 2, 1, 1, 2, 1, 3, 4, ...   \n2    [1, 3, 4, 2, 2, 4, 1, 1, 3, 2, 3, 1, 2, 3, 4, ...   \n3    [1, 3, 3, 2, 3, 2, 2, 4, 2, 4, 4, 3, 4, 1, 1, ...   \n4                                                  NaN   \n..                                                 ...   \n166  [4, 4, 3, 3, 4, 4, 3, 2, 1, 1, 2, 2, 1, 1, 2, ...   \n167                                                NaN   \n168  [3, 3, 3, 4, 2, 2, 4, 3, 1, 4, 4, 1, 2, 1, 1, ...   \n169  [4, 3, 1, 4, 1, 4, 2, 2, 4, 3, 3, 2, 2, 1, 3, ...   \n170  [4, 2, 4, 4, 1, 1, 1, 4, 2, 1, 2, 2, 3, 3, 3, ...   \n\n                 start_datetime                end_datetime  tutorial_time  \\\n0    2023-07-06 15:33:53.819738   2023-07-06 15:56:48.16091         17.000   \n1    2023-07-06 15:35:09.753802  2023-07-06 15:47:48.277039          6.000   \n2     2023-07-07 18:11:08.79005                         NaN          2.000   \n3    2023-07-07 18:11:52.077358  2023-07-07 18:37:30.385374         42.000   \n4     2023-07-06 15:33:56.35275                         NaN            NaN   \n..                          ...                         ...            ...   \n166  2023-07-06 16:05:50.918429  2023-07-06 16:18:44.773885          9.000   \n167  2023-07-06 15:33:53.496439                         NaN            NaN   \n168  2023-07-07 19:01:38.084371  2023-07-07 19:19:47.324967         77.000   \n169  2023-07-06 15:34:02.551439  2023-07-06 16:19:00.534461         32.000   \n170  2023-07-07 18:44:54.269601  2023-07-07 19:01:59.264466         20.000   \n\n     total_time_on_questions_and_answers  total_question_time  ...   q30_time  \\\n0                                951.000              852.000  ... 13,226.000   \n1                                594.000              442.000  ... 19,847.000   \n2                                    NaN                  NaN  ...        NaN   \n3                              1,019.000              825.000  ... 16,843.000   \n4                                    NaN                  NaN  ...        NaN   \n..                                   ...                  ...  ...        ...   \n166                              605.000              483.000  ...  5,546.000   \n167                                  NaN                  NaN  ...        NaN   \n168                              562.000              496.000  ...  7,472.000   \n169                              915.000              857.000  ... 12,782.000   \n170                              659.000              607.000  ...  3,067.000   \n\n      q31                   q31_start                     q31_end   q31_time  \\\n0   2.000  2023-07-06 15:54:44.186955  2023-07-06 15:54:57.575035 13,388.000   \n1   4.000   2023-07-06 15:47:19.25664  2023-07-06 15:47:24.331627  5,074.000   \n2     NaN                         NaN                         NaN        NaN   \n3   3.000   2023-07-07 18:36:52.45584  2023-07-07 18:36:57.673103  5,217.000   \n4     NaN                         NaN                         NaN        NaN   \n..    ...                         ...                         ...        ...   \n166 2.000  2023-07-06 16:18:14.652581  2023-07-06 16:18:25.846863 11,194.000   \n167   NaN                         NaN                         NaN        NaN   \n168 3.000  2023-07-07 19:19:10.726193  2023-07-07 19:19:32.963664 22,237.000   \n169 4.000  2023-07-06 16:18:21.318188  2023-07-06 16:18:31.224703  9,906.000   \n170 2.000  2023-07-07 19:00:31.777433  2023-07-07 19:00:36.612726  4,835.000   \n\n      q32                   q32_start                     q32_end   q32_time  \\\n0   4.000  2023-07-06 15:55:00.530759  2023-07-06 15:55:13.292598 12,761.000   \n1   1.000  2023-07-06 15:47:26.069748   2023-07-06 15:47:33.66475  7,595.000   \n2     NaN                         NaN                         NaN        NaN   \n3   1.000  2023-07-07 18:37:00.669486  2023-07-07 18:37:12.637864 11,968.000   \n4     NaN                         NaN                         NaN        NaN   \n..    ...                         ...                         ...        ...   \n166 4.000   2023-07-06 16:18:27.91728  2023-07-06 16:18:32.772318  4,855.000   \n167   NaN                         NaN                         NaN        NaN   \n168 1.000  2023-07-07 19:19:34.721309  2023-07-07 19:19:39.613308  4,891.000   \n169 2.000  2023-07-06 16:18:31.963803  2023-07-06 16:18:39.588003  7,624.000   \n170 1.000  2023-07-07 19:00:38.045936  2023-07-07 19:00:40.864742  2,818.000   \n\n                                              feedback  \n0    I found the tutorial to be very helpful in und...  \n1                                                 good  \n2                                                  NaN  \n3                                                 Good  \n4                                                  NaN  \n..                                                 ...  \n166                                               none  \n167                                                NaN  \n168                                               good  \n169                                                NaN  \n170                                           GOODNESS  \n\n[171 rows x 149 columns]",
      "text/html": "<div>\n<style scoped>\n    .dataframe tbody tr th:only-of-type {\n        vertical-align: middle;\n    }\n\n    .dataframe tbody tr th {\n        vertical-align: top;\n    }\n\n    .dataframe thead th {\n        text-align: right;\n    }\n</style>\n<table border=\"1\" class=\"dataframe\">\n  <thead>\n    <tr style=\"text-align: right;\">\n      <th></th>\n      <th>worker_id</th>\n      <th>current_section</th>\n      <th>current_page</th>\n      <th>sequence_num</th>\n      <th>pattern_order</th>\n      <th>start_datetime</th>\n      <th>end_datetime</th>\n      <th>tutorial_time</th>\n      <th>total_time_on_questions_and_answers</th>\n      <th>total_question_time</th>\n      <th>...</th>\n      <th>q30_time</th>\n      <th>q31</th>\n      <th>q31_start</th>\n      <th>q31_end</th>\n      <th>q31_time</th>\n      <th>q32</th>\n      <th>q32_start</th>\n      <th>q32_end</th>\n      <th>q32_time</th>\n      <th>feedback</th>\n    </tr>\n  </thead>\n  <tbody>\n    <tr>\n      <th>0</th>\n      <td>84</td>\n      <td>RESULTS</td>\n      <td>1</td>\n      <td>1.000</td>\n      <td>[1, 1, 2, 1, 1, 2, 3, 4, 2, 4, 4, 2, 4, 3, 3, ...</td>\n      <td>2023-07-06 15:33:53.819738</td>\n      <td>2023-07-06 15:56:48.16091</td>\n      <td>17.000</td>\n      <td>951.000</td>\n      <td>852.000</td>\n      <td>...</td>\n      <td>13,226.000</td>\n      <td>2.000</td>\n      <td>2023-07-06 15:54:44.186955</td>\n      <td>2023-07-06 15:54:57.575035</td>\n      <td>13,388.000</td>\n      <td>4.000</td>\n      <td>2023-07-06 15:55:00.530759</td>\n      <td>2023-07-06 15:55:13.292598</td>\n      <td>12,761.000</td>\n      <td>I found the tutorial to be very helpful in und...</td>\n    </tr>\n    <tr>\n      <th>1</th>\n      <td>69</td>\n      <td>RESULTS</td>\n      <td>1</td>\n      <td>1.000</td>\n      <td>[3, 1, 3, 3, 2, 2, 4, 4, 2, 1, 1, 2, 1, 3, 4, ...</td>\n      <td>2023-07-06 15:35:09.753802</td>\n      <td>2023-07-06 15:47:48.277039</td>\n      <td>6.000</td>\n      <td>594.000</td>\n      <td>442.000</td>\n      <td>...</td>\n      <td>19,847.000</td>\n      <td>4.000</td>\n      <td>2023-07-06 15:47:19.25664</td>\n      <td>2023-07-06 15:47:24.331627</td>\n      <td>5,074.000</td>\n      <td>1.000</td>\n      <td>2023-07-06 15:47:26.069748</td>\n      <td>2023-07-06 15:47:33.66475</td>\n      <td>7,595.000</td>\n      <td>good</td>\n    </tr>\n    <tr>\n      <th>2</th>\n      <td>122</td>\n      <td>QUESTIONS</td>\n      <td>29</td>\n      <td>1.000</td>\n      <td>[1, 3, 4, 2, 2, 4, 1, 1, 3, 2, 3, 1, 2, 3, 4, ...</td>\n      <td>2023-07-07 18:11:08.79005</td>\n      <td>NaN</td>\n      <td>2.000</td>\n      <td>NaN</td>\n      <td>NaN</td>\n      <td>...</td>\n      <td>NaN</td>\n      <td>NaN</td>\n      <td>NaN</td>\n      <td>NaN</td>\n      <td>NaN</td>\n      <td>NaN</td>\n      <td>NaN</td>\n      <td>NaN</td>\n      <td>NaN</td>\n      <td>NaN</td>\n    </tr>\n    <tr>\n      <th>3</th>\n      <td>71</td>\n      <td>RESULTS</td>\n      <td>1</td>\n      <td>1.000</td>\n      <td>[1, 3, 3, 2, 3, 2, 2, 4, 2, 4, 4, 3, 4, 1, 1, ...</td>\n      <td>2023-07-07 18:11:52.077358</td>\n      <td>2023-07-07 18:37:30.385374</td>\n      <td>42.000</td>\n      <td>1,019.000</td>\n      <td>825.000</td>\n      <td>...</td>\n      <td>16,843.000</td>\n      <td>3.000</td>\n      <td>2023-07-07 18:36:52.45584</td>\n      <td>2023-07-07 18:36:57.673103</td>\n      <td>5,217.000</td>\n      <td>1.000</td>\n      <td>2023-07-07 18:37:00.669486</td>\n      <td>2023-07-07 18:37:12.637864</td>\n      <td>11,968.000</td>\n      <td>Good</td>\n    </tr>\n    <tr>\n      <th>4</th>\n      <td>104</td>\n      <td>INSTRUCTIONS</td>\n      <td>1</td>\n      <td>NaN</td>\n      <td>NaN</td>\n      <td>2023-07-06 15:33:56.35275</td>\n      <td>NaN</td>\n      <td>NaN</td>\n      <td>NaN</td>\n      <td>NaN</td>\n      <td>...</td>\n      <td>NaN</td>\n      <td>NaN</td>\n      <td>NaN</td>\n      <td>NaN</td>\n      <td>NaN</td>\n      <td>NaN</td>\n      <td>NaN</td>\n      <td>NaN</td>\n      <td>NaN</td>\n      <td>NaN</td>\n    </tr>\n    <tr>\n      <th>...</th>\n      <td>...</td>\n      <td>...</td>\n      <td>...</td>\n      <td>...</td>\n      <td>...</td>\n      <td>...</td>\n      <td>...</td>\n      <td>...</td>\n      <td>...</td>\n      <td>...</td>\n      <td>...</td>\n      <td>...</td>\n      <td>...</td>\n      <td>...</td>\n      <td>...</td>\n      <td>...</td>\n      <td>...</td>\n      <td>...</td>\n      <td>...</td>\n      <td>...</td>\n      <td>...</td>\n    </tr>\n    <tr>\n      <th>166</th>\n      <td>109</td>\n      <td>RESULTS</td>\n      <td>1</td>\n      <td>0.000</td>\n      <td>[4, 4, 3, 3, 4, 4, 3, 2, 1, 1, 2, 2, 1, 1, 2, ...</td>\n      <td>2023-07-06 16:05:50.918429</td>\n      <td>2023-07-06 16:18:44.773885</td>\n      <td>9.000</td>\n      <td>605.000</td>\n      <td>483.000</td>\n      <td>...</td>\n      <td>5,546.000</td>\n      <td>2.000</td>\n      <td>2023-07-06 16:18:14.652581</td>\n      <td>2023-07-06 16:18:25.846863</td>\n      <td>11,194.000</td>\n      <td>4.000</td>\n      <td>2023-07-06 16:18:27.91728</td>\n      <td>2023-07-06 16:18:32.772318</td>\n      <td>4,855.000</td>\n      <td>none</td>\n    </tr>\n    <tr>\n      <th>167</th>\n      <td>27</td>\n      <td>INSTRUCTIONS</td>\n      <td>1</td>\n      <td>NaN</td>\n      <td>NaN</td>\n      <td>2023-07-06 15:33:53.496439</td>\n      <td>NaN</td>\n      <td>NaN</td>\n      <td>NaN</td>\n      <td>NaN</td>\n      <td>...</td>\n      <td>NaN</td>\n      <td>NaN</td>\n      <td>NaN</td>\n      <td>NaN</td>\n      <td>NaN</td>\n      <td>NaN</td>\n      <td>NaN</td>\n      <td>NaN</td>\n      <td>NaN</td>\n      <td>NaN</td>\n    </tr>\n    <tr>\n      <th>168</th>\n      <td>64</td>\n      <td>RESULTS</td>\n      <td>1</td>\n      <td>0.000</td>\n      <td>[3, 3, 3, 4, 2, 2, 4, 3, 1, 4, 4, 1, 2, 1, 1, ...</td>\n      <td>2023-07-07 19:01:38.084371</td>\n      <td>2023-07-07 19:19:47.324967</td>\n      <td>77.000</td>\n      <td>562.000</td>\n      <td>496.000</td>\n      <td>...</td>\n      <td>7,472.000</td>\n      <td>3.000</td>\n      <td>2023-07-07 19:19:10.726193</td>\n      <td>2023-07-07 19:19:32.963664</td>\n      <td>22,237.000</td>\n      <td>1.000</td>\n      <td>2023-07-07 19:19:34.721309</td>\n      <td>2023-07-07 19:19:39.613308</td>\n      <td>4,891.000</td>\n      <td>good</td>\n    </tr>\n    <tr>\n      <th>169</th>\n      <td>86</td>\n      <td>RESULTS</td>\n      <td>1</td>\n      <td>1.000</td>\n      <td>[4, 3, 1, 4, 1, 4, 2, 2, 4, 3, 3, 2, 2, 1, 3, ...</td>\n      <td>2023-07-06 15:34:02.551439</td>\n      <td>2023-07-06 16:19:00.534461</td>\n      <td>32.000</td>\n      <td>915.000</td>\n      <td>857.000</td>\n      <td>...</td>\n      <td>12,782.000</td>\n      <td>4.000</td>\n      <td>2023-07-06 16:18:21.318188</td>\n      <td>2023-07-06 16:18:31.224703</td>\n      <td>9,906.000</td>\n      <td>2.000</td>\n      <td>2023-07-06 16:18:31.963803</td>\n      <td>2023-07-06 16:18:39.588003</td>\n      <td>7,624.000</td>\n      <td>NaN</td>\n    </tr>\n    <tr>\n      <th>170</th>\n      <td>108</td>\n      <td>RESULTS</td>\n      <td>1</td>\n      <td>1.000</td>\n      <td>[4, 2, 4, 4, 1, 1, 1, 4, 2, 1, 2, 2, 3, 3, 3, ...</td>\n      <td>2023-07-07 18:44:54.269601</td>\n      <td>2023-07-07 19:01:59.264466</td>\n      <td>20.000</td>\n      <td>659.000</td>\n      <td>607.000</td>\n      <td>...</td>\n      <td>3,067.000</td>\n      <td>2.000</td>\n      <td>2023-07-07 19:00:31.777433</td>\n      <td>2023-07-07 19:00:36.612726</td>\n      <td>4,835.000</td>\n      <td>1.000</td>\n      <td>2023-07-07 19:00:38.045936</td>\n      <td>2023-07-07 19:00:40.864742</td>\n      <td>2,818.000</td>\n      <td>GOODNESS</td>\n    </tr>\n  </tbody>\n</table>\n<p>171 rows × 149 columns</p>\n</div>"
     },
     "metadata": {},
     "output_type": "display_data"
    }
   ],
   "source": [
    "df = pd.read_csv(originalfilename)\n",
    "print(f'Original data: {originalfilename}')\n",
    "display(df)\n",
    "\n",
    "# --- Anonymize the workers with randomized categories (https://pandas.pydata.org/docs/user_guide/categorical.html#working-with-categories)\n",
    "c = df.worker_id.astype('category')\n",
    "d = dict(enumerate(c.cat.categories))\n",
    "\n",
    "from random import shuffle\n",
    "keys = list(d.keys())\n",
    "shuffle(keys)\n",
    "d = dict(zip(d.values(), keys))             # randomize the category assignment s.t. categorical numbers are identical with alphabetical order\n",
    "\n",
    "with open(internalencodingfilename, 'w') as f:      # save the category encoding\n",
    "    for key in d.keys():\n",
    "        f.write(\"%s,%s\\n\"%(key,d[key]))\n",
    "\n",
    "df[\"worker_id\"] = df[\"worker_id\"].map(d)    # replace worker_ids with randomized categories\n",
    "df.drop(['assignment_id', 'hit_id', 'qualification_score'], axis=1, inplace=True)\n",
    "\n",
    "# --- store anonymized data and print\n",
    "df.to_csv(newfilenameanonymized, index=False)\n",
    "print(f'New data: {newfilenameanonymized}')\n",
    "display(df)"
   ]
  },
  {
   "cell_type": "markdown",
   "source": [
    "# Evaluate random success rate"
   ],
   "metadata": {
    "collapsed": false
   }
  },
  {
   "cell_type": "code",
   "execution_count": 20,
   "outputs": [
    {
     "name": "stdout",
     "output_type": "stream",
     "text": [
      "0.0020029562073948792\n",
      "4.178747903260671e-09\n"
     ]
    }
   ],
   "source": [
    "# What is the probability that a user randomly guessing answers k/n questions correctly? Binomial distribution\n",
    "from scipy.stats import binom\n",
    "\n",
    "# 50% correct 16/32\n",
    "k=16\n",
    "n=32\n",
    "p=1/4\n",
    "print(1-binom.cdf(k-1, n, p))\n",
    "\n",
    "# 66.6% correct 24/32\n",
    "k=24\n",
    "n=32\n",
    "p=1/4\n",
    "print(1-binom.cdf(k-1, n, p))"
   ],
   "metadata": {
    "collapsed": false,
    "pycharm": {
     "name": "#%%\n"
    }
   }
  },
  {
   "cell_type": "code",
   "execution_count": 27,
   "outputs": [
    {
     "name": "stdout",
     "output_type": "stream",
     "text": [
      "0.9840931156501753\n"
     ]
    }
   ],
   "source": [
    "# What is the probability that among n participants, there are two who have the same treatment?\n",
    "n = 50\n",
    "p = 1 - np.exp(-n*n/(2*2520*2520))\n",
    "print(p*5000)"
   ],
   "metadata": {
    "collapsed": false,
    "pycharm": {
     "name": "#%%\n"
    }
   }
  },
  {
   "cell_type": "code",
   "execution_count": null,
   "outputs": [],
   "source": [],
   "metadata": {
    "collapsed": false,
    "pycharm": {
     "name": "#%%\n"
    }
   }
  }
 ],
 "metadata": {
  "kernelspec": {
   "display_name": "Python 3 (ipykernel)",
   "language": "python",
   "name": "python3"
  },
  "language_info": {
   "codemirror_mode": {
    "name": "ipython",
    "version": 3
   },
   "file_extension": ".py",
   "mimetype": "text/x-python",
   "name": "python",
   "nbconvert_exporter": "python",
   "pygments_lexer": "ipython3",
   "version": "3.11.2"
  }
 },
 "nbformat": 4,
 "nbformat_minor": 5
}