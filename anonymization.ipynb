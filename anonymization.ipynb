{
 "cells": [
  {
   "cell_type": "markdown",
   "id": "b10ec5b6-efb7-4010-bede-f4f5fe9b1ce1",
   "metadata": {},
   "source": [
    "# Anonymization of user data\n",
    "\n",
    "Script that takes as in put the raw data from AMT and anonymizes the data:\n",
    "Replaces the worker ID and removes 'assignment_id', 'hit_id', and 'qualification_score'.\n",
    "This script is for internal use and will not be shared.\n"
   ]
  },
  {
   "cell_type": "markdown",
   "id": "11486b0f",
   "metadata": {
    "collapsed": false,
    "jupyter": {
     "outputs_hidden": false
    }
   },
   "source": [
    "## Load packages"
   ]
  },
  {
   "cell_type": "code",
   "execution_count": null,
   "id": "90163bd4-f66f-4d4d-a525-a8420532f03e",
   "metadata": {},
   "outputs": [],
   "source": [
    "import pandas as pd\n",
    "import numpy as np\n",
    "from IPython.display import display\n",
    "\n",
    "# Set Jupyter and Pandas to show 3 decimal places, does not work for lists of numbers\n",
    "%precision 3\n",
    "pd.options.display.float_format = '{:,.3f}'.format\n",
    "np.set_printoptions(precision=3)"
   ]
  },
  {
   "cell_type": "markdown",
   "id": "60109a40-4d08-4bd6-90ed-a6788cfe728a",
   "metadata": {},
   "source": [
    "## File names"
   ]
  },
  {
   "cell_type": "code",
   "execution_count": null,
   "id": "2d1d96cd-4678-4d54-a8eb-d84cf3e14247",
   "metadata": {},
   "outputs": [],
   "source": [
    "originalfilename = 'data/users-table-day2.csv'                                  # original data: will not be shared\n",
    "newfilenameanonymized = 'data/users-table-day2-anonymized.csv'                  # anonymized data: will be used later\n",
    "internalencodingfilename = 'data/users-table-day2-original-worker_ids.csv'      # for internal use: store the transformation from anonymized to original worker_ids"
   ]
  },
  {
   "cell_type": "markdown",
   "id": "ce8b86e6-d818-4a15-a5f4-9ca691e84fba",
   "metadata": {},
   "source": [
    "## Creating two new files\n",
    "\n",
    "Loading the original data, anonymizing it, saving it and also the worker-id encoding\n"
   ]
  },
  {
   "cell_type": "code",
   "execution_count": null,
   "id": "385495ea-f2c9-4273-9cd9-4e2378417641",
   "metadata": {},
   "outputs": [],
   "source": [
    "df = pd.read_csv(originalfilename)\n",
    "print(f'Original data: {originalfilename}')\n",
    "display(df)\n",
    "\n",
    "# --- Anonymize the workers with randomized categories (https://pandas.pydata.org/docs/user_guide/categorical.html#working-with-categories)\n",
    "c = df.worker_id.astype('category')\n",
    "d = dict(enumerate(c.cat.categories))\n",
    "\n",
    "from random import shuffle\n",
    "keys = list(d.keys())\n",
    "shuffle(keys)\n",
    "d = dict(zip(d.values(), keys))             # randomize the category assignment s.t. categorical numbers are identical with alphabetical order\n",
    "\n",
    "with open(internalencodingfilename, 'w') as f:      # save the category encoding\n",
    "    for key in d.keys():\n",
    "        f.write(\"%s,%s\\n\"%(key,d[key]))\n",
    "\n",
    "df[\"worker_id\"] = df[\"worker_id\"].map(d)    # replace worker_ids with randomized categories\n",
    "# df.drop(['assignment_id', 'hit_id', 'qualification_score'], axis=1, inplace=True)     # keep original schema\n",
    "df.loc[df['assignment_id'] != '', 'assignment_id'] = ''\n",
    "df.loc[df['hit_id'] != '', 'hit_id'] = ''\n",
    "\n",
    "# --- store anonymized data and print\n",
    "df.to_csv(newfilenameanonymized, index=False)\n",
    "print(f'New data: {newfilenameanonymized}')\n",
    "display(df)"
   ]
  },
  {
   "cell_type": "markdown",
   "id": "b5afe9bf",
   "metadata": {
    "collapsed": false,
    "jupyter": {
     "outputs_hidden": false
    }
   },
   "source": [
    "# Evaluate random success rate"
   ]
  },
  {
   "cell_type": "code",
   "execution_count": null,
   "id": "6ad9bfda",
   "metadata": {
    "collapsed": false,
    "jupyter": {
     "outputs_hidden": false
    },
    "pycharm": {
     "name": "#%%\n"
    }
   },
   "outputs": [],
   "source": [
    "# What is the probability that a user randomly guessing answers k/n questions correctly? Binomial distribution\n",
    "from scipy.stats import binom\n",
    "\n",
    "# 50% correct 16/32\n",
    "k=16\n",
    "n=32\n",
    "p=1/4\n",
    "print(1-binom.cdf(k-1, n, p))\n",
    "\n",
    "# 66.6% correct 24/32\n",
    "k=24\n",
    "n=32\n",
    "p=1/4\n",
    "print(1-binom.cdf(k-1, n, p))"
   ]
  },
  {
   "cell_type": "code",
   "execution_count": null,
   "id": "0817c1fe",
   "metadata": {
    "collapsed": false,
    "jupyter": {
     "outputs_hidden": false
    },
    "pycharm": {
     "name": "#%%\n"
    }
   },
   "outputs": [],
   "source": [
    "# What is the probability that among n participants, there are two who have the same treatment?\n",
    "n = 50\n",
    "p = 1 - np.exp(-n*n/(2*2520*2520))\n",
    "print(p*5000)"
   ]
  }
 ],
 "metadata": {
  "kernelspec": {
   "display_name": "Python 3 (ipykernel)",
   "language": "python",
   "name": "python3"
  },
  "language_info": {
   "codemirror_mode": {
    "name": "ipython",
    "version": 3
   },
   "file_extension": ".py",
   "mimetype": "text/x-python",
   "name": "python",
   "nbconvert_exporter": "python",
   "pygments_lexer": "ipython3",
   "version": "3.10.4"
  }
 },
 "nbformat": 4,
 "nbformat_minor": 5
}